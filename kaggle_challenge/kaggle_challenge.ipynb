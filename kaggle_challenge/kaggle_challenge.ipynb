{
 "metadata": {
  "language_info": {
   "codemirror_mode": {
    "name": "ipython",
    "version": 3
   },
   "file_extension": ".py",
   "mimetype": "text/x-python",
   "name": "python",
   "nbconvert_exporter": "python",
   "pygments_lexer": "ipython3",
   "version": "3.8.5-final"
  },
  "orig_nbformat": 2,
  "kernelspec": {
   "name": "python_defaultSpec_1600167211245",
   "display_name": "Python 3.8.5 64-bit"
  }
 },
 "nbformat": 4,
 "nbformat_minor": 2,
 "cells": [
  {
   "source": [
    "Import Statements"
   ],
   "cell_type": "markdown",
   "metadata": {}
  },
  {
   "cell_type": "code",
   "execution_count": 1,
   "metadata": {
    "tags": []
   },
   "outputs": [
    {
     "output_type": "stream",
     "name": "stderr",
     "text": "[nltk_data] Downloading package punkt to\n[nltk_data]     C:\\Users\\Z87-4770\\AppData\\Roaming\\nltk_data...\n[nltk_data]   Package punkt is already up-to-date!\n"
    },
    {
     "output_type": "execute_result",
     "data": {
      "text/plain": "True"
     },
     "metadata": {},
     "execution_count": 1
    }
   ],
   "source": [
    "import json\n",
    "import sys\n",
    "import re\n",
    "import pandas as pd\n",
    "import nltk\n",
    "from sklearn.model_selection import train_test_split\n",
    "from nltk.corpus import stopwords\n",
    "stopwords = stopwords.words(\"english\")\n",
    "nltk.download('punkt')"
   ]
  },
  {
   "source": [
    "train = pd.read_csv(\"train.csv\")\n",
    "test = pd.read_csv(\"test.csv\")"
   ],
   "cell_type": "code",
   "metadata": {},
   "execution_count": 2,
   "outputs": []
  },
  {
   "source": [
    "Remove Blanks, punctuation, stopwords"
   ],
   "cell_type": "markdown",
   "metadata": {}
  },
  {
   "cell_type": "code",
   "execution_count": 3,
   "metadata": {
    "tags": []
   },
   "outputs": [],
   "source": [
    "train.dropna(subset=[\"text\"], inplace=True)\n",
    "train.text = train.text.apply(lambda x: re.sub(r\"[^\\w\\s]\", \"\", x))\n",
    "train.text = train.text.apply(lambda x: re.sub(r\"\\(?http\\S+\", \"\", x))\n",
    "train.text = train.text.apply(lambda x: \" \".join([word for word in nltk.word_tokenize(x) if word.lower() not in stopwords]))"
   ]
  },
  {
   "cell_type": "code",
   "execution_count": 4,
   "metadata": {},
   "outputs": [],
   "source": [
    "test.dropna(subset=[\"text\"], inplace=True)\n",
    "test.text = test.text.apply(lambda x: re.sub(r\"[^\\w\\s]\", \"\", x))\n",
    "test.text = test.text.apply(lambda x: re.sub(r\"\\(?http\\S+\", \"\", x))\n",
    "test.text = test.text.apply(lambda x: \" \".join([word for word in nltk.word_tokenize(x) if word.lower() not in stopwords]))"
   ]
  },
  {
   "source": [
    "Lemmatization"
   ],
   "cell_type": "markdown",
   "metadata": {}
  },
  {
   "cell_type": "code",
   "execution_count": 5,
   "metadata": {},
   "outputs": [],
   "source": [
    "lem = nltk.WordNetLemmatizer()\n",
    "train.text = train.text.apply(lambda x:\" \".join([lem.lemmatize(word) for word in nltk.word_tokenize(x)]))"
   ]
  },
  {
   "cell_type": "code",
   "execution_count": 6,
   "metadata": {},
   "outputs": [],
   "source": [
    "lem2 = nltk.WordNetLemmatizer()\n",
    "test.text = test.text.apply(lambda x:\" \".join([lem2.lemmatize(word) for word in nltk.word_tokenize(x)]))"
   ]
  },
  {
   "source": [
    "Training Classifier"
   ],
   "cell_type": "markdown",
   "metadata": {}
  },
  {
   "cell_type": "code",
   "execution_count": 7,
   "metadata": {},
   "outputs": [],
   "source": [
    "from sklearn.feature_extraction.text import CountVectorizer, TfidfVectorizer\n",
    "from sklearn.naive_bayes import MultinomialNB, GaussianNB\n",
    "from sklearn import metrics"
   ]
  },
  {
   "cell_type": "code",
   "execution_count": 12,
   "metadata": {},
   "outputs": [],
   "source": [
    "vec = CountVectorizer()\n",
    "x_train = vec.fit_transform(train.text)\n",
    "y_test = vec.transform(test.text)"
   ]
  },
  {
   "cell_type": "code",
   "execution_count": 13,
   "metadata": {},
   "outputs": [
    {
     "output_type": "execute_result",
     "data": {
      "text/plain": "MultinomialNB()"
     },
     "metadata": {},
     "execution_count": 13
    }
   ],
   "source": [
    "nb = MultinomialNB()\n",
    "nb.fit(x_train, train.sentiment)"
   ]
  },
  {
   "source": [
    "Prediction"
   ],
   "cell_type": "markdown",
   "metadata": {}
  },
  {
   "cell_type": "code",
   "execution_count": 14,
   "metadata": {},
   "outputs": [
    {
     "output_type": "execute_result",
     "data": {
      "text/plain": "0.3432371250707414"
     },
     "metadata": {},
     "execution_count": 14
    }
   ],
   "source": [
    "y_predicted = nb.predict(y_test)\n",
    "metrics.accuracy_score(train.sentiment.iloc[:3534], y_predicted) "
   ]
  },
  {
   "source": [
    "Outputting prediction to csv and matching submission format"
   ],
   "cell_type": "markdown",
   "metadata": {}
  },
  {
   "cell_type": "code",
   "execution_count": 15,
   "metadata": {
    "tags": []
   },
   "outputs": [],
   "source": [
    "test[\"sentiment\"] = y_predicted\n",
    "test.to_csv(\"finals.csv\")"
   ]
  }
 ]
}